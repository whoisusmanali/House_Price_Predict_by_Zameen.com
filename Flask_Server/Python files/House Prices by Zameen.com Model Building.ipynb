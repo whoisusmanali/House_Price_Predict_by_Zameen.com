{
 "cells": [
  {
   "cell_type": "code",
   "execution_count": 5,
   "metadata": {},
   "outputs": [
    {
     "name": "stdout",
     "output_type": "stream",
     "text": [
      "Defaulting to user installation because normal site-packages is not writeable\n",
      "Collecting sagemaker\n",
      "  Using cached sagemaker-2.230.0-py3-none-any.whl (1.6 MB)\n",
      "Collecting schema\n",
      "  Using cached schema-0.7.7-py2.py3-none-any.whl (18 kB)\n",
      "Collecting pandas\n",
      "  Downloading pandas-2.2.2-cp39-cp39-macosx_11_0_arm64.whl (11.3 MB)\n",
      "\u001b[K     |████████████████████████████████| 11.3 MB 3.9 MB/s eta 0:00:01\n",
      "\u001b[?25hCollecting importlib-metadata<7.0,>=1.4.0\n",
      "  Using cached importlib_metadata-6.11.0-py3-none-any.whl (23 kB)\n",
      "Collecting requests\n",
      "  Using cached requests-2.32.3-py3-none-any.whl (64 kB)\n",
      "Collecting boto3<2.0,>=1.34.142\n",
      "  Using cached boto3-1.35.8-py3-none-any.whl (139 kB)\n",
      "Collecting pyyaml~=6.0\n",
      "  Downloading PyYAML-6.0.2-cp39-cp39-macosx_11_0_arm64.whl (172 kB)\n",
      "\u001b[K     |████████████████████████████████| 172 kB 21.7 MB/s eta 0:00:01\n",
      "\u001b[?25hCollecting jsonschema\n",
      "  Using cached jsonschema-4.23.0-py3-none-any.whl (88 kB)\n",
      "Collecting docker\n",
      "  Using cached docker-7.1.0-py3-none-any.whl (147 kB)\n",
      "Requirement already satisfied: packaging>=20.0 in /Users/usmanali/Library/Python/3.9/lib/python/site-packages (from sagemaker) (24.1)\n",
      "Requirement already satisfied: platformdirs in /Users/usmanali/Library/Python/3.9/lib/python/site-packages (from sagemaker) (4.2.2)\n",
      "Collecting google-pasta\n",
      "  Using cached google_pasta-0.2.0-py3-none-any.whl (57 kB)\n",
      "Collecting tqdm\n",
      "  Using cached tqdm-4.66.5-py3-none-any.whl (78 kB)\n",
      "Collecting numpy<2.0,>=1.9.0\n",
      "  Downloading numpy-1.26.4-cp39-cp39-macosx_11_0_arm64.whl (14.0 MB)\n",
      "\u001b[K     |████████████████████████████████| 14.0 MB 17.8 MB/s eta 0:00:01\n",
      "\u001b[?25hCollecting cloudpickle==2.2.1\n",
      "  Using cached cloudpickle-2.2.1-py3-none-any.whl (25 kB)\n",
      "Collecting protobuf<5.0,>=3.12\n",
      "  Using cached protobuf-4.25.4-cp37-abi3-macosx_10_9_universal2.whl (394 kB)\n",
      "Requirement already satisfied: psutil in /Users/usmanali/Library/Python/3.9/lib/python/site-packages (from sagemaker) (6.0.0)\n",
      "Collecting smdebug-rulesconfig==1.0.1\n",
      "  Using cached smdebug_rulesconfig-1.0.1-py2.py3-none-any.whl (20 kB)\n",
      "Collecting tblib<4,>=1.7.0\n",
      "  Using cached tblib-3.0.0-py3-none-any.whl (12 kB)\n",
      "Collecting pathos\n",
      "  Using cached pathos-0.3.2-py3-none-any.whl (82 kB)\n",
      "Collecting attrs<24,>=23.1.0\n",
      "  Using cached attrs-23.2.0-py3-none-any.whl (60 kB)\n",
      "Collecting urllib3<3.0.0,>=1.26.8\n",
      "  Using cached urllib3-2.2.2-py3-none-any.whl (121 kB)\n",
      "Collecting s3transfer<0.11.0,>=0.10.0\n",
      "  Using cached s3transfer-0.10.2-py3-none-any.whl (82 kB)\n",
      "Collecting botocore<1.36.0,>=1.35.8\n",
      "  Using cached botocore-1.35.8-py3-none-any.whl (12.5 MB)\n",
      "Collecting jmespath<2.0.0,>=0.7.1\n",
      "  Using cached jmespath-1.0.1-py3-none-any.whl (20 kB)\n",
      "Requirement already satisfied: python-dateutil<3.0.0,>=2.1 in /Users/usmanali/Library/Python/3.9/lib/python/site-packages (from botocore<1.36.0,>=1.35.8->boto3<2.0,>=1.34.142->sagemaker) (2.9.0.post0)\n",
      "Collecting urllib3<3.0.0,>=1.26.8\n",
      "  Downloading urllib3-1.26.20-py2.py3-none-any.whl (144 kB)\n",
      "\u001b[K     |████████████████████████████████| 144 kB 61.8 MB/s eta 0:00:01\n",
      "\u001b[?25hRequirement already satisfied: zipp>=0.5 in /Users/usmanali/Library/Python/3.9/lib/python/site-packages (from importlib-metadata<7.0,>=1.4.0->sagemaker) (3.20.1)\n",
      "Requirement already satisfied: six>=1.5 in /Applications/Xcode.app/Contents/Developer/Library/Frameworks/Python3.framework/Versions/3.9/lib/python3.9/site-packages (from python-dateutil<3.0.0,>=2.1->botocore<1.36.0,>=1.35.8->boto3<2.0,>=1.34.142->sagemaker) (1.15.0)\n",
      "Collecting charset-normalizer<4,>=2\n",
      "  Using cached charset_normalizer-3.3.2-cp39-cp39-macosx_11_0_arm64.whl (120 kB)\n",
      "Collecting idna<4,>=2.5\n",
      "  Using cached idna-3.8-py3-none-any.whl (66 kB)\n",
      "Collecting certifi>=2017.4.17\n",
      "  Using cached certifi-2024.7.4-py3-none-any.whl (162 kB)\n",
      "Collecting jsonschema-specifications>=2023.03.6\n",
      "  Using cached jsonschema_specifications-2023.12.1-py3-none-any.whl (18 kB)\n",
      "Collecting rpds-py>=0.7.1\n",
      "  Downloading rpds_py-0.20.0-cp39-cp39-macosx_11_0_arm64.whl (311 kB)\n",
      "\u001b[K     |████████████████████████████████| 311 kB 26.8 MB/s eta 0:00:01\n",
      "\u001b[?25hCollecting referencing>=0.28.4\n",
      "  Using cached referencing-0.35.1-py3-none-any.whl (26 kB)\n",
      "Collecting tzdata>=2022.7\n",
      "  Using cached tzdata-2024.1-py2.py3-none-any.whl (345 kB)\n",
      "Collecting pytz>=2020.1\n",
      "  Using cached pytz-2024.1-py2.py3-none-any.whl (505 kB)\n",
      "Collecting multiprocess>=0.70.16\n",
      "  Downloading multiprocess-0.70.16-py39-none-any.whl (133 kB)\n",
      "\u001b[K     |████████████████████████████████| 133 kB 28.8 MB/s eta 0:00:01\n",
      "\u001b[?25hCollecting ppft>=1.7.6.8\n",
      "  Using cached ppft-1.7.6.8-py3-none-any.whl (56 kB)\n",
      "Collecting dill>=0.3.8\n",
      "  Using cached dill-0.3.8-py3-none-any.whl (116 kB)\n",
      "Collecting pox>=0.3.4\n",
      "  Using cached pox-0.3.4-py3-none-any.whl (29 kB)\n",
      "Installing collected packages: urllib3, rpds-py, jmespath, attrs, referencing, idna, dill, charset-normalizer, certifi, botocore, tzdata, s3transfer, requests, pytz, ppft, pox, numpy, multiprocess, jsonschema-specifications, tqdm, tblib, smdebug-rulesconfig, schema, pyyaml, protobuf, pathos, pandas, jsonschema, importlib-metadata, google-pasta, docker, cloudpickle, boto3, sagemaker\n",
      "  Attempting uninstall: importlib-metadata\n",
      "    Found existing installation: importlib-metadata 8.4.0\n",
      "    Uninstalling importlib-metadata-8.4.0:\n",
      "      Successfully uninstalled importlib-metadata-8.4.0\n",
      "Successfully installed attrs-23.2.0 boto3-1.35.8 botocore-1.35.8 certifi-2024.7.4 charset-normalizer-3.3.2 cloudpickle-2.2.1 dill-0.3.8 docker-7.1.0 google-pasta-0.2.0 idna-3.8 importlib-metadata-6.11.0 jmespath-1.0.1 jsonschema-4.23.0 jsonschema-specifications-2023.12.1 multiprocess-0.70.16 numpy-1.26.4 pandas-2.2.2 pathos-0.3.2 pox-0.3.4 ppft-1.7.6.8 protobuf-4.25.4 pytz-2024.1 pyyaml-6.0.2 referencing-0.35.1 requests-2.32.3 rpds-py-0.20.0 s3transfer-0.10.2 sagemaker-2.230.0 schema-0.7.7 smdebug-rulesconfig-1.0.1 tblib-3.0.0 tqdm-4.66.5 tzdata-2024.1 urllib3-1.26.20\n",
      "\u001b[33mWARNING: You are using pip version 21.2.4; however, version 24.2 is available.\n",
      "You should consider upgrading via the '/Applications/Xcode.app/Contents/Developer/usr/bin/python3 -m pip install --upgrade pip' command.\u001b[0m\n",
      "Note: you may need to restart the kernel to use updated packages.\n"
     ]
    }
   ],
   "source": [
    "pip install sagemaker\n"
   ]
  },
  {
   "cell_type": "code",
   "execution_count": 13,
   "metadata": {},
   "outputs": [
    {
     "name": "stdout",
     "output_type": "stream",
     "text": [
      "Using the bucket zamhouseprice\n"
     ]
    },
    {
     "data": {
      "text/plain": [
       "'us-east-2'"
      ]
     },
     "execution_count": 13,
     "metadata": {},
     "output_type": "execute_result"
    }
   ],
   "source": [
    "import sagemaker\n",
    "import boto3\n",
    "\n",
    "#Connecting with AWS\n",
    "#s3_client = boto3.client('s3', region_name='us-east-1')\n",
    "sm_boto3 = boto3.client(\"sagemaker\")\n",
    "sess = sagemaker.Session()\n",
    "region = sess.boto_session.region_name\n",
    "bucket = \"zamhouseprice\"\n",
    "print(\"Using the bucket\", bucket)\n",
    "region\n"
   ]
  },
  {
   "cell_type": "code",
   "execution_count": 2,
   "metadata": {
    "executionInfo": {
     "elapsed": 740,
     "status": "ok",
     "timestamp": 1680634817048,
     "user": {
      "displayName": "Usman Ali",
      "userId": "09228208514231833281"
     },
     "user_tz": -300
    },
    "id": "m1Ky8rtQdq4z"
   },
   "outputs": [],
   "source": [
    "#Import libraries\n",
    "import pandas as pd\n",
    "import numpy as np\n",
    "\n",
    "\n",
    "from sklearn.preprocessing import StandardScaler\n",
    "from sklearn.model_selection import train_test_split\n",
    "\n",
    "from sklearn.preprocessing import OneHotEncoder\n",
    "from sklearn.compose import ColumnTransformer"
   ]
  },
  {
   "cell_type": "markdown",
   "metadata": {
    "id": "ptFQwwdvelXB"
   },
   "source": [
    "### Get the data from the Drive"
   ]
  },
  {
   "cell_type": "code",
   "execution_count": 3,
   "metadata": {
    "colab": {
     "base_uri": "https://localhost:8080/"
    },
    "executionInfo": {
     "elapsed": 2138,
     "status": "ok",
     "timestamp": 1680634819175,
     "user": {
      "displayName": "Usman Ali",
      "userId": "09228208514231833281"
     },
     "user_tz": -300
    },
    "id": "uB5ZOsaZekl-",
    "outputId": "bf9a67d1-da36-4f91-a35b-5708dc978e7e",
    "scrolled": true
   },
   "outputs": [
    {
     "name": "stdout",
     "output_type": "stream",
     "text": [
      "zsh:1: command not found: gdown\n"
     ]
    }
   ],
   "source": [
    "!gdown --id '1dHJT1AkJ-roBpfar-6trD6yfitNPhGNe'"
   ]
  },
  {
   "cell_type": "code",
   "execution_count": 4,
   "metadata": {
    "colab": {
     "base_uri": "https://localhost:8080/",
     "height": 206
    },
    "executionInfo": {
     "elapsed": 28,
     "status": "ok",
     "timestamp": 1680634819176,
     "user": {
      "displayName": "Usman Ali",
      "userId": "09228208514231833281"
     },
     "user_tz": -300
    },
    "id": "AQfOHkyQesqv",
    "outputId": "ff9717b0-3563-483b-856d-80c5371e903d"
   },
   "outputs": [
    {
     "data": {
      "text/html": [
       "<div>\n",
       "<style scoped>\n",
       "    .dataframe tbody tr th:only-of-type {\n",
       "        vertical-align: middle;\n",
       "    }\n",
       "\n",
       "    .dataframe tbody tr th {\n",
       "        vertical-align: top;\n",
       "    }\n",
       "\n",
       "    .dataframe thead th {\n",
       "        text-align: right;\n",
       "    }\n",
       "</style>\n",
       "<table border=\"1\" class=\"dataframe\">\n",
       "  <thead>\n",
       "    <tr style=\"text-align: right;\">\n",
       "      <th></th>\n",
       "      <th>property_type</th>\n",
       "      <th>price</th>\n",
       "      <th>location</th>\n",
       "      <th>city</th>\n",
       "      <th>baths</th>\n",
       "      <th>purpose</th>\n",
       "      <th>bedrooms</th>\n",
       "      <th>Area_in_Marla</th>\n",
       "    </tr>\n",
       "  </thead>\n",
       "  <tbody>\n",
       "    <tr>\n",
       "      <th>0</th>\n",
       "      <td>Flat</td>\n",
       "      <td>10000000</td>\n",
       "      <td>G-10</td>\n",
       "      <td>Islamabad</td>\n",
       "      <td>2</td>\n",
       "      <td>For Sale</td>\n",
       "      <td>2</td>\n",
       "      <td>4.0</td>\n",
       "    </tr>\n",
       "    <tr>\n",
       "      <th>1</th>\n",
       "      <td>Flat</td>\n",
       "      <td>6900000</td>\n",
       "      <td>E-11</td>\n",
       "      <td>Islamabad</td>\n",
       "      <td>3</td>\n",
       "      <td>For Sale</td>\n",
       "      <td>3</td>\n",
       "      <td>5.6</td>\n",
       "    </tr>\n",
       "    <tr>\n",
       "      <th>2</th>\n",
       "      <td>House</td>\n",
       "      <td>16500000</td>\n",
       "      <td>G-15</td>\n",
       "      <td>Islamabad</td>\n",
       "      <td>6</td>\n",
       "      <td>For Sale</td>\n",
       "      <td>5</td>\n",
       "      <td>8.0</td>\n",
       "    </tr>\n",
       "    <tr>\n",
       "      <th>3</th>\n",
       "      <td>House</td>\n",
       "      <td>43500000</td>\n",
       "      <td>Bani Gala</td>\n",
       "      <td>Islamabad</td>\n",
       "      <td>4</td>\n",
       "      <td>For Sale</td>\n",
       "      <td>4</td>\n",
       "      <td>40.0</td>\n",
       "    </tr>\n",
       "    <tr>\n",
       "      <th>4</th>\n",
       "      <td>House</td>\n",
       "      <td>7000000</td>\n",
       "      <td>DHA Defence</td>\n",
       "      <td>Islamabad</td>\n",
       "      <td>3</td>\n",
       "      <td>For Sale</td>\n",
       "      <td>3</td>\n",
       "      <td>8.0</td>\n",
       "    </tr>\n",
       "  </tbody>\n",
       "</table>\n",
       "</div>"
      ],
      "text/plain": [
       "  property_type     price     location       city  baths   purpose  bedrooms  \\\n",
       "0          Flat  10000000         G-10  Islamabad      2  For Sale         2   \n",
       "1          Flat   6900000         E-11  Islamabad      3  For Sale         3   \n",
       "2         House  16500000         G-15  Islamabad      6  For Sale         5   \n",
       "3         House  43500000    Bani Gala  Islamabad      4  For Sale         4   \n",
       "4         House   7000000  DHA Defence  Islamabad      3  For Sale         3   \n",
       "\n",
       "   Area_in_Marla  \n",
       "0            4.0  \n",
       "1            5.6  \n",
       "2            8.0  \n",
       "3           40.0  \n",
       "4            8.0  "
      ]
     },
     "execution_count": 4,
     "metadata": {},
     "output_type": "execute_result"
    }
   ],
   "source": [
    "df=pd.read_csv('/Users/usmanali/Uwindsor/AI/House_Price_Predict_by_Zameen.com/Flask_Server/Datasets/cleaned_data_for_model.csv')\n",
    "df.drop(['Unnamed: 0'],axis=1,inplace=True)\n",
    "df.head()"
   ]
  },
  {
   "cell_type": "markdown",
   "metadata": {
    "id": "5_EKx6nPe9Qo"
   },
   "source": [
    "#### Defining the dependent and independent variables"
   ]
  },
  {
   "cell_type": "code",
   "execution_count": 5,
   "metadata": {
    "executionInfo": {
     "elapsed": 27,
     "status": "ok",
     "timestamp": 1680634819178,
     "user": {
      "displayName": "Usman Ali",
      "userId": "09228208514231833281"
     },
     "user_tz": -300
    },
    "id": "23ojOm2Se7b8"
   },
   "outputs": [],
   "source": [
    "x=df.drop(['price','location'],axis=1)\n",
    "y=df.iloc[:,1:2]"
   ]
  },
  {
   "cell_type": "code",
   "execution_count": 6,
   "metadata": {
    "colab": {
     "base_uri": "https://localhost:8080/",
     "height": 423
    },
    "executionInfo": {
     "elapsed": 25,
     "status": "ok",
     "timestamp": 1680634819179,
     "user": {
      "displayName": "Usman Ali",
      "userId": "09228208514231833281"
     },
     "user_tz": -300
    },
    "id": "wAw2dhvZfSKx",
    "outputId": "4598f232-3806-411e-e43a-eabf23179e47",
    "scrolled": true
   },
   "outputs": [
    {
     "data": {
      "text/html": [
       "<div>\n",
       "<style scoped>\n",
       "    .dataframe tbody tr th:only-of-type {\n",
       "        vertical-align: middle;\n",
       "    }\n",
       "\n",
       "    .dataframe tbody tr th {\n",
       "        vertical-align: top;\n",
       "    }\n",
       "\n",
       "    .dataframe thead th {\n",
       "        text-align: right;\n",
       "    }\n",
       "</style>\n",
       "<table border=\"1\" class=\"dataframe\">\n",
       "  <thead>\n",
       "    <tr style=\"text-align: right;\">\n",
       "      <th></th>\n",
       "      <th>property_type</th>\n",
       "      <th>city</th>\n",
       "      <th>baths</th>\n",
       "      <th>purpose</th>\n",
       "      <th>bedrooms</th>\n",
       "      <th>Area_in_Marla</th>\n",
       "    </tr>\n",
       "  </thead>\n",
       "  <tbody>\n",
       "    <tr>\n",
       "      <th>0</th>\n",
       "      <td>Flat</td>\n",
       "      <td>Islamabad</td>\n",
       "      <td>2</td>\n",
       "      <td>For Sale</td>\n",
       "      <td>2</td>\n",
       "      <td>4.0</td>\n",
       "    </tr>\n",
       "    <tr>\n",
       "      <th>1</th>\n",
       "      <td>Flat</td>\n",
       "      <td>Islamabad</td>\n",
       "      <td>3</td>\n",
       "      <td>For Sale</td>\n",
       "      <td>3</td>\n",
       "      <td>5.6</td>\n",
       "    </tr>\n",
       "    <tr>\n",
       "      <th>2</th>\n",
       "      <td>House</td>\n",
       "      <td>Islamabad</td>\n",
       "      <td>6</td>\n",
       "      <td>For Sale</td>\n",
       "      <td>5</td>\n",
       "      <td>8.0</td>\n",
       "    </tr>\n",
       "    <tr>\n",
       "      <th>3</th>\n",
       "      <td>House</td>\n",
       "      <td>Islamabad</td>\n",
       "      <td>4</td>\n",
       "      <td>For Sale</td>\n",
       "      <td>4</td>\n",
       "      <td>40.0</td>\n",
       "    </tr>\n",
       "    <tr>\n",
       "      <th>4</th>\n",
       "      <td>House</td>\n",
       "      <td>Islamabad</td>\n",
       "      <td>3</td>\n",
       "      <td>For Sale</td>\n",
       "      <td>3</td>\n",
       "      <td>8.0</td>\n",
       "    </tr>\n",
       "    <tr>\n",
       "      <th>...</th>\n",
       "      <td>...</td>\n",
       "      <td>...</td>\n",
       "      <td>...</td>\n",
       "      <td>...</td>\n",
       "      <td>...</td>\n",
       "      <td>...</td>\n",
       "    </tr>\n",
       "    <tr>\n",
       "      <th>99494</th>\n",
       "      <td>Flat</td>\n",
       "      <td>Karachi</td>\n",
       "      <td>3</td>\n",
       "      <td>For Sale</td>\n",
       "      <td>3</td>\n",
       "      <td>8.0</td>\n",
       "    </tr>\n",
       "    <tr>\n",
       "      <th>99495</th>\n",
       "      <td>House</td>\n",
       "      <td>Karachi</td>\n",
       "      <td>4</td>\n",
       "      <td>For Sale</td>\n",
       "      <td>3</td>\n",
       "      <td>8.0</td>\n",
       "    </tr>\n",
       "    <tr>\n",
       "      <th>99496</th>\n",
       "      <td>House</td>\n",
       "      <td>Karachi</td>\n",
       "      <td>3</td>\n",
       "      <td>For Sale</td>\n",
       "      <td>3</td>\n",
       "      <td>8.0</td>\n",
       "    </tr>\n",
       "    <tr>\n",
       "      <th>99497</th>\n",
       "      <td>House</td>\n",
       "      <td>Karachi</td>\n",
       "      <td>4</td>\n",
       "      <td>For Sale</td>\n",
       "      <td>4</td>\n",
       "      <td>14.0</td>\n",
       "    </tr>\n",
       "    <tr>\n",
       "      <th>99498</th>\n",
       "      <td>House</td>\n",
       "      <td>Karachi</td>\n",
       "      <td>3</td>\n",
       "      <td>For Sale</td>\n",
       "      <td>3</td>\n",
       "      <td>9.4</td>\n",
       "    </tr>\n",
       "  </tbody>\n",
       "</table>\n",
       "<p>99499 rows × 6 columns</p>\n",
       "</div>"
      ],
      "text/plain": [
       "      property_type       city  baths   purpose  bedrooms  Area_in_Marla\n",
       "0              Flat  Islamabad      2  For Sale         2            4.0\n",
       "1              Flat  Islamabad      3  For Sale         3            5.6\n",
       "2             House  Islamabad      6  For Sale         5            8.0\n",
       "3             House  Islamabad      4  For Sale         4           40.0\n",
       "4             House  Islamabad      3  For Sale         3            8.0\n",
       "...             ...        ...    ...       ...       ...            ...\n",
       "99494          Flat    Karachi      3  For Sale         3            8.0\n",
       "99495         House    Karachi      4  For Sale         3            8.0\n",
       "99496         House    Karachi      3  For Sale         3            8.0\n",
       "99497         House    Karachi      4  For Sale         4           14.0\n",
       "99498         House    Karachi      3  For Sale         3            9.4\n",
       "\n",
       "[99499 rows x 6 columns]"
      ]
     },
     "execution_count": 6,
     "metadata": {},
     "output_type": "execute_result"
    }
   ],
   "source": [
    "x"
   ]
  },
  {
   "cell_type": "code",
   "execution_count": 7,
   "metadata": {
    "colab": {
     "base_uri": "https://localhost:8080/",
     "height": 423
    },
    "executionInfo": {
     "elapsed": 23,
     "status": "ok",
     "timestamp": 1680634819180,
     "user": {
      "displayName": "Usman Ali",
      "userId": "09228208514231833281"
     },
     "user_tz": -300
    },
    "id": "MM3O6w3MfSIJ",
    "outputId": "78e9e8e2-8b56-4be8-9d39-80a85409a0ff"
   },
   "outputs": [
    {
     "data": {
      "text/html": [
       "<div>\n",
       "<style scoped>\n",
       "    .dataframe tbody tr th:only-of-type {\n",
       "        vertical-align: middle;\n",
       "    }\n",
       "\n",
       "    .dataframe tbody tr th {\n",
       "        vertical-align: top;\n",
       "    }\n",
       "\n",
       "    .dataframe thead th {\n",
       "        text-align: right;\n",
       "    }\n",
       "</style>\n",
       "<table border=\"1\" class=\"dataframe\">\n",
       "  <thead>\n",
       "    <tr style=\"text-align: right;\">\n",
       "      <th></th>\n",
       "      <th>price</th>\n",
       "    </tr>\n",
       "  </thead>\n",
       "  <tbody>\n",
       "    <tr>\n",
       "      <th>0</th>\n",
       "      <td>10000000</td>\n",
       "    </tr>\n",
       "    <tr>\n",
       "      <th>1</th>\n",
       "      <td>6900000</td>\n",
       "    </tr>\n",
       "    <tr>\n",
       "      <th>2</th>\n",
       "      <td>16500000</td>\n",
       "    </tr>\n",
       "    <tr>\n",
       "      <th>3</th>\n",
       "      <td>43500000</td>\n",
       "    </tr>\n",
       "    <tr>\n",
       "      <th>4</th>\n",
       "      <td>7000000</td>\n",
       "    </tr>\n",
       "    <tr>\n",
       "      <th>...</th>\n",
       "      <td>...</td>\n",
       "    </tr>\n",
       "    <tr>\n",
       "      <th>99494</th>\n",
       "      <td>7500000</td>\n",
       "    </tr>\n",
       "    <tr>\n",
       "      <th>99495</th>\n",
       "      <td>8800000</td>\n",
       "    </tr>\n",
       "    <tr>\n",
       "      <th>99496</th>\n",
       "      <td>14000000</td>\n",
       "    </tr>\n",
       "    <tr>\n",
       "      <th>99497</th>\n",
       "      <td>14000000</td>\n",
       "    </tr>\n",
       "    <tr>\n",
       "      <th>99498</th>\n",
       "      <td>9000000</td>\n",
       "    </tr>\n",
       "  </tbody>\n",
       "</table>\n",
       "<p>99499 rows × 1 columns</p>\n",
       "</div>"
      ],
      "text/plain": [
       "          price\n",
       "0      10000000\n",
       "1       6900000\n",
       "2      16500000\n",
       "3      43500000\n",
       "4       7000000\n",
       "...         ...\n",
       "99494   7500000\n",
       "99495   8800000\n",
       "99496  14000000\n",
       "99497  14000000\n",
       "99498   9000000\n",
       "\n",
       "[99499 rows x 1 columns]"
      ]
     },
     "execution_count": 7,
     "metadata": {},
     "output_type": "execute_result"
    }
   ],
   "source": [
    "y"
   ]
  },
  {
   "cell_type": "markdown",
   "metadata": {
    "id": "AOe8iiKteN1s"
   },
   "source": [
    "### Firstly we have to do the one-hot encoding to covert the categorical features into numerical"
   ]
  },
  {
   "cell_type": "code",
   "execution_count": 8,
   "metadata": {
    "executionInfo": {
     "elapsed": 1221,
     "status": "ok",
     "timestamp": 1680634820380,
     "user": {
      "displayName": "Usman Ali",
      "userId": "09228208514231833281"
     },
     "user_tz": -300
    },
    "id": "_ftOE88DeLlO"
   },
   "outputs": [],
   "source": [
    "ct=ColumnTransformer(transformers=[('encoder',OneHotEncoder(),[0,1,3])],remainder='passthrough')\n",
    "x=ct.fit_transform(x)"
   ]
  },
  {
   "cell_type": "markdown",
   "metadata": {
    "id": "6ASR1H89f-GV"
   },
   "source": [
    "Split the data into train and test"
   ]
  },
  {
   "cell_type": "code",
   "execution_count": 9,
   "metadata": {
    "executionInfo": {
     "elapsed": 9,
     "status": "ok",
     "timestamp": 1680634820383,
     "user": {
      "displayName": "Usman Ali",
      "userId": "09228208514231833281"
     },
     "user_tz": -300
    },
    "id": "xgbR-DO6f5yQ"
   },
   "outputs": [],
   "source": [
    "x_train,x_test,y_train,y_test=train_test_split(x,y,test_size=0.2,random_state=42)"
   ]
  },
  {
   "cell_type": "markdown",
   "metadata": {},
   "source": [
    "## Saving the data into S3 Bucket\n"
   ]
  },
  {
   "cell_type": "code",
   "execution_count": 10,
   "metadata": {},
   "outputs": [],
   "source": [
    "trainX = pd.DataFrame(x_train)\n",
    "trainX['label'] = y_train\n",
    "\n",
    "testX = pd.DataFrame(x_test)\n",
    "testX['label'] = y_test"
   ]
  },
  {
   "cell_type": "code",
   "execution_count": 11,
   "metadata": {},
   "outputs": [],
   "source": [
    "# Creating the files\n",
    "trainX.to_csv(\"x_trainV1.csv\", index= False)\n",
    "testX.to_csv(\"x_testV1.csv\", index = False)"
   ]
  },
  {
   "cell_type": "code",
   "execution_count": 14,
   "metadata": {},
   "outputs": [
    {
     "name": "stdout",
     "output_type": "stream",
     "text": [
      "s3://zamhouseprice/sagemaker/house_price_prediction/sklearncontainer/x_testV1.csv\n",
      "s3://zamhouseprice/sagemaker/house_price_prediction/sklearncontainer/x_trainV1.csv\n"
     ]
    }
   ],
   "source": [
    "#Uploading the files into s3 bucket\n",
    "sk_prefix = \"sagemaker/house_price_prediction/sklearncontainer\"\n",
    "train_path = sess.upload_data(\n",
    "    path = \"x_testV1.csv\", bucket = bucket, key_prefix= sk_prefix\n",
    ")\n",
    "\n",
    "test_path = sess.upload_data(\n",
    "    path = \"x_trainV1.csv\", bucket= bucket, key_prefix= sk_prefix\n",
    ")\n",
    "\n",
    "print(train_path)\n",
    "print(test_path)"
   ]
  },
  {
   "cell_type": "markdown",
   "metadata": {
    "id": "sdinIVYWhzu_"
   },
   "source": [
    "### Model Building\n",
    "In which try all the Regression model and will see the results."
   ]
  },
  {
   "cell_type": "markdown",
   "metadata": {
    "id": "UsxqkqE9l8ny"
   },
   "source": [
    "### Linear Regression"
   ]
  },
  {
   "cell_type": "code",
   "execution_count": 13,
   "metadata": {
    "executionInfo": {
     "elapsed": 2606,
     "status": "ok",
     "timestamp": 1680634822982,
     "user": {
      "displayName": "Usman Ali",
      "userId": "09228208514231833281"
     },
     "user_tz": -300
    },
    "id": "bCzdkD1ygh46"
   },
   "outputs": [],
   "source": [
    "#Starting with linear regression\n",
    "from sklearn.linear_model import LinearRegression\n",
    "model=LinearRegression()\n",
    "\n",
    "model.fit(x_train,y_train)\n",
    "prediction=model.predict(x_test)"
   ]
  },
  {
   "cell_type": "code",
   "execution_count": 14,
   "metadata": {
    "colab": {
     "base_uri": "https://localhost:8080/"
    },
    "executionInfo": {
     "elapsed": 16,
     "status": "ok",
     "timestamp": 1680634822983,
     "user": {
      "displayName": "Usman Ali",
      "userId": "09228208514231833281"
     },
     "user_tz": -300
    },
    "id": "M4ro1NbAiYRG",
    "outputId": "be539ac5-dce8-4612-c02a-0a80ea11190c"
   },
   "outputs": [
    {
     "name": "stdout",
     "output_type": "stream",
     "text": [
      "Linear Model Score: 0.597120792107532\n"
     ]
    }
   ],
   "source": [
    "linear_model=model.score(x_test,y_test)\n",
    "print(\"Linear Model Score:\",linear_model)"
   ]
  },
  {
   "cell_type": "markdown",
   "metadata": {
    "id": "P-z0XhW7l5X0"
   },
   "source": [
    "### Decision Tree"
   ]
  },
  {
   "cell_type": "code",
   "execution_count": 15,
   "metadata": {
    "colab": {
     "base_uri": "https://localhost:8080/"
    },
    "executionInfo": {
     "elapsed": 671,
     "status": "ok",
     "timestamp": 1680634823643,
     "user": {
      "displayName": "Usman Ali",
      "userId": "09228208514231833281"
     },
     "user_tz": -300
    },
    "id": "rd642l7UjpB6",
    "outputId": "9c2d3a03-198e-4e65-b752-acebff19c128"
   },
   "outputs": [
    {
     "name": "stdout",
     "output_type": "stream",
     "text": [
      "Decision Tree model score: 0.7358533641982425\n"
     ]
    }
   ],
   "source": [
    "from sklearn import tree\n",
    "dt_model=tree.DecisionTreeRegressor(criterion='squared_error',max_depth=3,max_leaf_nodes=5)\n",
    "dt_model.fit(x_train,y_train)\n",
    "dt_score=dt_model.score(x_test,y_test)\n",
    "print(\"Decision Tree model score:\",dt_score)\n"
   ]
  },
  {
   "cell_type": "markdown",
   "metadata": {
    "id": "NmrRrvevl2EL"
   },
   "source": [
    "### Random Forest"
   ]
  },
  {
   "cell_type": "code",
   "execution_count": 16,
   "metadata": {
    "colab": {
     "base_uri": "https://localhost:8080/"
    },
    "executionInfo": {
     "elapsed": 4714,
     "status": "ok",
     "timestamp": 1680634828347,
     "user": {
      "displayName": "Usman Ali",
      "userId": "09228208514231833281"
     },
     "user_tz": -300
    },
    "id": "YTmxUPmAljEO",
    "outputId": "9b38159f-5544-4e81-b323-6115842cce0a"
   },
   "outputs": [
    {
     "name": "stderr",
     "output_type": "stream",
     "text": [
      "/Users/usmanali/anaconda3/lib/python3.11/site-packages/sklearn/base.py:1151: DataConversionWarning: A column-vector y was passed when a 1d array was expected. Please change the shape of y to (n_samples,), for example using ravel().\n",
      "  return fit_method(estimator, *args, **kwargs)\n"
     ]
    },
    {
     "name": "stdout",
     "output_type": "stream",
     "text": [
      "Random Forest Score is: 0.7991899152201849\n"
     ]
    }
   ],
   "source": [
    "from sklearn.ensemble import RandomForestRegressor\n",
    "random_forest_model=RandomForestRegressor(n_estimators=10,\n",
    "                                          criterion='squared_error',\n",
    "                                          max_depth=5,\n",
    "                                          min_samples_leaf=5,)\n",
    "random_forest_model.fit(x_train,y_train)\n",
    "random_forest_score=random_forest_model.score(x_test,y_test)\n",
    "print(\"Random Forest Score is:\",random_forest_score)"
   ]
  },
  {
   "cell_type": "markdown",
   "metadata": {
    "id": "2WMzYFZ0oHH4"
   },
   "source": [
    "KNN"
   ]
  },
  {
   "cell_type": "code",
   "execution_count": 17,
   "metadata": {
    "colab": {
     "base_uri": "https://localhost:8080/"
    },
    "executionInfo": {
     "elapsed": 135588,
     "status": "ok",
     "timestamp": 1680634978585,
     "user": {
      "displayName": "Usman Ali",
      "userId": "09228208514231833281"
     },
     "user_tz": -300
    },
    "id": "wlJGclX2nvJE",
    "outputId": "77c68a69-ce98-499e-c1ec-464e86a235cc"
   },
   "outputs": [
    {
     "name": "stdout",
     "output_type": "stream",
     "text": [
      "KNN score: 0.8310570639797328\n"
     ]
    }
   ],
   "source": [
    "from sklearn.neighbors import KNeighborsRegressor\n",
    "knn_model=KNeighborsRegressor(n_neighbors=5,\n",
    "                              weights='distance')\n",
    "knn_model.fit(x_train,y_train)\n",
    "knn_score=knn_model.score(x_test,y_test)\n",
    "print(\"KNN score:\",knn_score)"
   ]
  },
  {
   "cell_type": "code",
   "execution_count": 18,
   "metadata": {
    "colab": {
     "base_uri": "https://localhost:8080/"
    },
    "executionInfo": {
     "elapsed": 2935,
     "status": "ok",
     "timestamp": 1680635217563,
     "user": {
      "displayName": "Usman Ali",
      "userId": "09228208514231833281"
     },
     "user_tz": -300
    },
    "id": "0Bp0WvNhpIoZ",
    "outputId": "76805983-ea22-422f-ad2e-2ed201e136f2"
   },
   "outputs": [
    {
     "name": "stderr",
     "output_type": "stream",
     "text": [
      "/Users/usmanali/anaconda3/lib/python3.11/site-packages/sklearn/ensemble/_gb.py:424: DataConversionWarning: A column-vector y was passed when a 1d array was expected. Please change the shape of y to (n_samples, ), for example using ravel().\n",
      "  y = column_or_1d(y, warn=True)\n"
     ]
    },
    {
     "name": "stdout",
     "output_type": "stream",
     "text": [
      "Gradient Boost Model Score: 0.839670971786119\n"
     ]
    }
   ],
   "source": [
    "from sklearn.ensemble import GradientBoostingRegressor\n",
    "gradient_boost_model=GradientBoostingRegressor(learning_rate=1.0,\n",
    "                                               n_estimators=20,\n",
    "                                               max_depth=5,\n",
    "                                               min_samples_leaf=5\n",
    "                                               )\n",
    "gradient_boost_model.fit(x_train,y_train)\n",
    "gradient_boost_score=gradient_boost_model.score(x_test,y_test)\n",
    "print(\"Gradient Boost Model Score:\",gradient_boost_score)"
   ]
  },
  {
   "cell_type": "markdown",
   "metadata": {
    "id": "oB11ft81qvBH"
   },
   "source": [
    "### XGBoost"
   ]
  },
  {
   "cell_type": "code",
   "execution_count": 19,
   "metadata": {
    "colab": {
     "base_uri": "https://localhost:8080/"
    },
    "executionInfo": {
     "elapsed": 7941,
     "status": "ok",
     "timestamp": 1680635424829,
     "user": {
      "displayName": "Usman Ali",
      "userId": "09228208514231833281"
     },
     "user_tz": -300
    },
    "id": "ZOHEpF0LqMOl",
    "outputId": "8ca3a24e-dc39-4dcd-a1b5-30dae484a62b"
   },
   "outputs": [
    {
     "name": "stdout",
     "output_type": "stream",
     "text": [
      "XG Boost score: 0.8512254299744458\n"
     ]
    },
    {
     "name": "stderr",
     "output_type": "stream",
     "text": [
      "/Users/usmanali/anaconda3/lib/python3.11/site-packages/xgboost/core.py:160: UserWarning: [00:34:57] WARNING: /Users/runner/work/xgboost/xgboost/src/objective/regression_obj.cu:209: reg:linear is now deprecated in favor of reg:squarederror.\n",
      "  warnings.warn(smsg, UserWarning)\n"
     ]
    }
   ],
   "source": [
    "import xgboost as xgb\n",
    "xgb_model = xgb.XGBRegressor(objective=\"reg:linear\", random_state=42)\n",
    "xgb_model.fit(x_train,y_train)\n",
    "xgb_score=xgb_model.score(x_test,y_test)\n",
    "print(\"XG Boost score:\",xgb_score)"
   ]
  },
  {
   "cell_type": "markdown",
   "metadata": {
    "id": "bxao6ElDrhhJ"
   },
   "source": [
    "### ADA Boost"
   ]
  },
  {
   "cell_type": "code",
   "execution_count": 20,
   "metadata": {
    "colab": {
     "base_uri": "https://localhost:8080/"
    },
    "executionInfo": {
     "elapsed": 3450,
     "status": "ok",
     "timestamp": 1680635639278,
     "user": {
      "displayName": "Usman Ali",
      "userId": "09228208514231833281"
     },
     "user_tz": -300
    },
    "id": "o_JPSf2OrDgq",
    "outputId": "9f5f6ac4-0fa5-400f-a7de-0d37dfb1df97"
   },
   "outputs": [
    {
     "name": "stderr",
     "output_type": "stream",
     "text": [
      "/Users/usmanali/anaconda3/lib/python3.11/site-packages/sklearn/utils/validation.py:1184: DataConversionWarning: A column-vector y was passed when a 1d array was expected. Please change the shape of y to (n_samples, ), for example using ravel().\n",
      "  y = column_or_1d(y, warn=True)\n"
     ]
    },
    {
     "name": "stdout",
     "output_type": "stream",
     "text": [
      "ADA boost model score: 0.76313864456297\n"
     ]
    }
   ],
   "source": [
    "from sklearn.ensemble import AdaBoostRegressor\n",
    "adaboost_model=AdaBoostRegressor(n_estimators=20,\n",
    "                                 learning_rate=0.1,\n",
    "                                 loss='square')\n",
    "adaboost_model.fit(x_train,y_train)\n",
    "adaboost_score=adaboost_model.score(x_test,y_test)\n",
    "print('ADA boost model score:',adaboost_score)"
   ]
  },
  {
   "cell_type": "markdown",
   "metadata": {
    "id": "U2pD3Xv1sOQX"
   },
   "source": [
    "## So from here the best Accuracy Score that we got is from KNN and XG boost so we can any of them to deploy on any machine, so now I will try RandomSearch CV to get the best results from KNN only."
   ]
  },
  {
   "cell_type": "code",
   "execution_count": 21,
   "metadata": {
    "colab": {
     "base_uri": "https://localhost:8080/"
    },
    "executionInfo": {
     "elapsed": 7,
     "status": "ok",
     "timestamp": 1680637191128,
     "user": {
      "displayName": "Usman Ali",
      "userId": "09228208514231833281"
     },
     "user_tz": -300
    },
    "id": "Wu96oStBsBkB",
    "outputId": "8f9799ba-2b32-44a2-a8de-8b89cb61cae2"
   },
   "outputs": [
    {
     "data": {
      "text/plain": [
       "array([[  1. ,   1. ,   1. ,   1. ,   4. ,   3. , 165.9]])"
      ]
     },
     "execution_count": 21,
     "metadata": {},
     "output_type": "execute_result"
    }
   ],
   "source": [
    "#Prediction\n",
    "input_data=[['House','Wazir Town','Rawalpindi',4,'For Sale',3,165.9]]\n",
    "input_data1=pd.DataFrame(input_data,columns=['property_type'\t,'location',\t'city'\t,'baths'\t,'purpose'\t,'bedrooms',\t'Area_in_Marla'])\n",
    "ct=ColumnTransformer(transformers=[('encoder',OneHotEncoder(),[0,1,2,4])],remainder='passthrough')\n",
    "input_data2=ct.fit_transform(input_data1)\n",
    "\n",
    "input_data2\n"
   ]
  },
  {
   "cell_type": "code",
   "execution_count": 25,
   "metadata": {
    "executionInfo": {
     "elapsed": 537,
     "status": "ok",
     "timestamp": 1680637391502,
     "user": {
      "displayName": "Usman Ali",
      "userId": "09228208514231833281"
     },
     "user_tz": -300
    },
    "id": "7ub8N8f3wXHo"
   },
   "outputs": [],
   "source": [
    "#Save the model\n",
    "import pickle\n",
    "pickle.dump(knn_model, open('House_Price_Prediction_model.pkl', 'wb'))"
   ]
  },
  {
   "cell_type": "code",
   "execution_count": 24,
   "metadata": {
    "colab": {
     "base_uri": "https://localhost:8080/"
    },
    "executionInfo": {
     "elapsed": 113332,
     "status": "ok",
     "timestamp": 1680637562483,
     "user": {
      "displayName": "Usman Ali",
      "userId": "09228208514231833281"
     },
     "user_tz": -300
    },
    "id": "dN-C--HOyDay",
    "outputId": "bd9384ed-0de7-4c85-8231-80476171839c"
   },
   "outputs": [
    {
     "data": {
      "text/plain": [
       "array([[11260000.],\n",
       "       [ 5500000.],\n",
       "       [   23800.],\n",
       "       ...,\n",
       "       [ 7700000.],\n",
       "       [ 4160000.],\n",
       "       [ 6340000.]])"
      ]
     },
     "execution_count": 24,
     "metadata": {},
     "output_type": "execute_result"
    }
   ],
   "source": [
    "pickled_model = pickle.load(open('House_Price_Prediction_with_KNN.pkl', 'rb'))\n",
    "pickled_model.predict(x_test)"
   ]
  },
  {
   "cell_type": "code",
   "execution_count": null,
   "metadata": {
    "id": "QE--4gl5zE1A"
   },
   "outputs": [],
   "source": [
    "x_test"
   ]
  },
  {
   "cell_type": "code",
   "execution_count": null,
   "metadata": {},
   "outputs": [],
   "source": []
  }
 ],
 "metadata": {
  "colab": {
   "authorship_tag": "ABX9TyPgEANW2BvSs/J9cWtgQqpT",
   "provenance": []
  },
  "kernelspec": {
   "display_name": "Python 3 (ipykernel)",
   "language": "python",
   "name": "python3"
  },
  "language_info": {
   "codemirror_mode": {
    "name": "ipython",
    "version": 3
   },
   "file_extension": ".py",
   "mimetype": "text/x-python",
   "name": "python",
   "nbconvert_exporter": "python",
   "pygments_lexer": "ipython3",
   "version": "3.12.3"
  }
 },
 "nbformat": 4,
 "nbformat_minor": 1
}
